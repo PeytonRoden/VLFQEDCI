{
 "cells": [
  {
   "cell_type": "code",
   "execution_count": null,
   "metadata": {},
   "outputs": [],
   "source": [
    "%load_ext autoreload\n",
    "%autoreload 2"
   ]
  },
  {
   "cell_type": "code",
   "execution_count": null,
   "metadata": {},
   "outputs": [],
   "source": [
    "import VariationalLangFirsov_QEDCI as vlfqedci\n",
    "import numpy as np\n",
    "\n",
    "\n",
    "mol_str  = \"\"\"\n",
    "        H 0 0 0 \n",
    "        H 0 0 0.74\n",
    "        symmetry c1\n",
    "        \"\"\"\n",
    "\n",
    "\n",
    "# Set computation options\n",
    "psi4_options = {'basis': '6-31g',\n",
    "                  'scf_type': 'pk',\n",
    "                  'e_convergence': 1e-12}\n",
    "\n",
    "lambda_vector = np.array([0.0,0.0,0.05])\n",
    "\n",
    "\n",
    "\n",
    "qedhf  = vlfqedci.QED_HF(mol_str=mol_str, psi_4_options_dict=psi4_options)\n",
    "qedhf.qed_hf(lambda_vector=lambda_vector)\n",
    "\n",
    "\n",
    "\n",
    "\n",
    "\n",
    "\n",
    "\n"
   ]
  }
 ],
 "metadata": {
  "kernelspec": {
   "display_name": "Python 3.12.3 ('psi4')",
   "language": "python",
   "name": "python3"
  },
  "language_info": {
   "codemirror_mode": {
    "name": "ipython",
    "version": 3
   },
   "file_extension": ".py",
   "mimetype": "text/x-python",
   "name": "python",
   "nbconvert_exporter": "python",
   "pygments_lexer": "ipython3",
   "version": "3.12.3"
  },
  "vscode": {
   "interpreter": {
    "hash": "fb1a2df4f9282886a9962e4f764279027b68d020a0da7673cd0f95f4da175bfd"
   }
  }
 },
 "nbformat": 4,
 "nbformat_minor": 2
}
